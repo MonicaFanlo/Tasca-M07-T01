{
 "cells": [
  {
   "cell_type": "code",
   "execution_count": 74,
   "id": "b92ac6c1",
   "metadata": {},
   "outputs": [],
   "source": [
    "import pandas as pd\n",
    "import matplotlib.pyplot as plt\n",
    "import numpy as np\n",
    "import seaborn as sns"
   ]
  },
  {
   "cell_type": "code",
   "execution_count": 75,
   "id": "a6308d31",
   "metadata": {},
   "outputs": [
    {
     "data": {
      "text/html": [
       "<div>\n",
       "<style scoped>\n",
       "    .dataframe tbody tr th:only-of-type {\n",
       "        vertical-align: middle;\n",
       "    }\n",
       "\n",
       "    .dataframe tbody tr th {\n",
       "        vertical-align: top;\n",
       "    }\n",
       "\n",
       "    .dataframe thead th {\n",
       "        text-align: right;\n",
       "    }\n",
       "</style>\n",
       "<table border=\"1\" class=\"dataframe\">\n",
       "  <thead>\n",
       "    <tr style=\"text-align: right;\">\n",
       "      <th></th>\n",
       "      <th>class</th>\n",
       "      <th>Alcohol</th>\n",
       "      <th>Malic acid</th>\n",
       "      <th>Ash</th>\n",
       "      <th>Alcalinity of ash</th>\n",
       "      <th>Magnesium</th>\n",
       "      <th>Total phenols</th>\n",
       "      <th>Flavanoids</th>\n",
       "      <th>Nonflavanoid phenols</th>\n",
       "      <th>Proanthocyanins</th>\n",
       "      <th>Color intensity</th>\n",
       "      <th>Hue</th>\n",
       "      <th>OD280/OD315</th>\n",
       "      <th>Proline</th>\n",
       "    </tr>\n",
       "  </thead>\n",
       "  <tbody>\n",
       "    <tr>\n",
       "      <th>0</th>\n",
       "      <td>1</td>\n",
       "      <td>14.23</td>\n",
       "      <td>1.71</td>\n",
       "      <td>2.43</td>\n",
       "      <td>15.6</td>\n",
       "      <td>127</td>\n",
       "      <td>2.80</td>\n",
       "      <td>3.06</td>\n",
       "      <td>0.28</td>\n",
       "      <td>2.29</td>\n",
       "      <td>5.64</td>\n",
       "      <td>1.04</td>\n",
       "      <td>3.92</td>\n",
       "      <td>1065</td>\n",
       "    </tr>\n",
       "    <tr>\n",
       "      <th>1</th>\n",
       "      <td>1</td>\n",
       "      <td>13.20</td>\n",
       "      <td>1.78</td>\n",
       "      <td>2.14</td>\n",
       "      <td>11.2</td>\n",
       "      <td>100</td>\n",
       "      <td>2.65</td>\n",
       "      <td>2.76</td>\n",
       "      <td>0.26</td>\n",
       "      <td>1.28</td>\n",
       "      <td>4.38</td>\n",
       "      <td>1.05</td>\n",
       "      <td>3.40</td>\n",
       "      <td>1050</td>\n",
       "    </tr>\n",
       "    <tr>\n",
       "      <th>2</th>\n",
       "      <td>1</td>\n",
       "      <td>13.16</td>\n",
       "      <td>2.36</td>\n",
       "      <td>2.67</td>\n",
       "      <td>18.6</td>\n",
       "      <td>101</td>\n",
       "      <td>2.80</td>\n",
       "      <td>3.24</td>\n",
       "      <td>0.30</td>\n",
       "      <td>2.81</td>\n",
       "      <td>5.68</td>\n",
       "      <td>1.03</td>\n",
       "      <td>3.17</td>\n",
       "      <td>1185</td>\n",
       "    </tr>\n",
       "    <tr>\n",
       "      <th>3</th>\n",
       "      <td>1</td>\n",
       "      <td>14.37</td>\n",
       "      <td>1.95</td>\n",
       "      <td>2.50</td>\n",
       "      <td>16.8</td>\n",
       "      <td>113</td>\n",
       "      <td>3.85</td>\n",
       "      <td>3.49</td>\n",
       "      <td>0.24</td>\n",
       "      <td>2.18</td>\n",
       "      <td>7.80</td>\n",
       "      <td>0.86</td>\n",
       "      <td>3.45</td>\n",
       "      <td>1480</td>\n",
       "    </tr>\n",
       "    <tr>\n",
       "      <th>4</th>\n",
       "      <td>1</td>\n",
       "      <td>13.24</td>\n",
       "      <td>2.59</td>\n",
       "      <td>2.87</td>\n",
       "      <td>21.0</td>\n",
       "      <td>118</td>\n",
       "      <td>2.80</td>\n",
       "      <td>2.69</td>\n",
       "      <td>0.39</td>\n",
       "      <td>1.82</td>\n",
       "      <td>4.32</td>\n",
       "      <td>1.04</td>\n",
       "      <td>2.93</td>\n",
       "      <td>735</td>\n",
       "    </tr>\n",
       "    <tr>\n",
       "      <th>...</th>\n",
       "      <td>...</td>\n",
       "      <td>...</td>\n",
       "      <td>...</td>\n",
       "      <td>...</td>\n",
       "      <td>...</td>\n",
       "      <td>...</td>\n",
       "      <td>...</td>\n",
       "      <td>...</td>\n",
       "      <td>...</td>\n",
       "      <td>...</td>\n",
       "      <td>...</td>\n",
       "      <td>...</td>\n",
       "      <td>...</td>\n",
       "      <td>...</td>\n",
       "    </tr>\n",
       "    <tr>\n",
       "      <th>173</th>\n",
       "      <td>3</td>\n",
       "      <td>13.71</td>\n",
       "      <td>5.65</td>\n",
       "      <td>2.45</td>\n",
       "      <td>20.5</td>\n",
       "      <td>95</td>\n",
       "      <td>1.68</td>\n",
       "      <td>0.61</td>\n",
       "      <td>0.52</td>\n",
       "      <td>1.06</td>\n",
       "      <td>7.70</td>\n",
       "      <td>0.64</td>\n",
       "      <td>1.74</td>\n",
       "      <td>740</td>\n",
       "    </tr>\n",
       "    <tr>\n",
       "      <th>174</th>\n",
       "      <td>3</td>\n",
       "      <td>13.40</td>\n",
       "      <td>3.91</td>\n",
       "      <td>2.48</td>\n",
       "      <td>23.0</td>\n",
       "      <td>102</td>\n",
       "      <td>1.80</td>\n",
       "      <td>0.75</td>\n",
       "      <td>0.43</td>\n",
       "      <td>1.41</td>\n",
       "      <td>7.30</td>\n",
       "      <td>0.70</td>\n",
       "      <td>1.56</td>\n",
       "      <td>750</td>\n",
       "    </tr>\n",
       "    <tr>\n",
       "      <th>175</th>\n",
       "      <td>3</td>\n",
       "      <td>13.27</td>\n",
       "      <td>4.28</td>\n",
       "      <td>2.26</td>\n",
       "      <td>20.0</td>\n",
       "      <td>120</td>\n",
       "      <td>1.59</td>\n",
       "      <td>0.69</td>\n",
       "      <td>0.43</td>\n",
       "      <td>1.35</td>\n",
       "      <td>10.20</td>\n",
       "      <td>0.59</td>\n",
       "      <td>1.56</td>\n",
       "      <td>835</td>\n",
       "    </tr>\n",
       "    <tr>\n",
       "      <th>176</th>\n",
       "      <td>3</td>\n",
       "      <td>13.17</td>\n",
       "      <td>2.59</td>\n",
       "      <td>2.37</td>\n",
       "      <td>20.0</td>\n",
       "      <td>120</td>\n",
       "      <td>1.65</td>\n",
       "      <td>0.68</td>\n",
       "      <td>0.53</td>\n",
       "      <td>1.46</td>\n",
       "      <td>9.30</td>\n",
       "      <td>0.60</td>\n",
       "      <td>1.62</td>\n",
       "      <td>840</td>\n",
       "    </tr>\n",
       "    <tr>\n",
       "      <th>177</th>\n",
       "      <td>3</td>\n",
       "      <td>14.13</td>\n",
       "      <td>4.10</td>\n",
       "      <td>2.74</td>\n",
       "      <td>24.5</td>\n",
       "      <td>96</td>\n",
       "      <td>2.05</td>\n",
       "      <td>0.76</td>\n",
       "      <td>0.56</td>\n",
       "      <td>1.35</td>\n",
       "      <td>9.20</td>\n",
       "      <td>0.61</td>\n",
       "      <td>1.60</td>\n",
       "      <td>560</td>\n",
       "    </tr>\n",
       "  </tbody>\n",
       "</table>\n",
       "<p>178 rows × 14 columns</p>\n",
       "</div>"
      ],
      "text/plain": [
       "     class  Alcohol  Malic acid   Ash  Alcalinity of ash  Magnesium  \\\n",
       "0        1    14.23        1.71  2.43               15.6        127   \n",
       "1        1    13.20        1.78  2.14               11.2        100   \n",
       "2        1    13.16        2.36  2.67               18.6        101   \n",
       "3        1    14.37        1.95  2.50               16.8        113   \n",
       "4        1    13.24        2.59  2.87               21.0        118   \n",
       "..     ...      ...         ...   ...                ...        ...   \n",
       "173      3    13.71        5.65  2.45               20.5         95   \n",
       "174      3    13.40        3.91  2.48               23.0        102   \n",
       "175      3    13.27        4.28  2.26               20.0        120   \n",
       "176      3    13.17        2.59  2.37               20.0        120   \n",
       "177      3    14.13        4.10  2.74               24.5         96   \n",
       "\n",
       "     Total phenols  Flavanoids  Nonflavanoid phenols  Proanthocyanins  \\\n",
       "0             2.80        3.06                  0.28             2.29   \n",
       "1             2.65        2.76                  0.26             1.28   \n",
       "2             2.80        3.24                  0.30             2.81   \n",
       "3             3.85        3.49                  0.24             2.18   \n",
       "4             2.80        2.69                  0.39             1.82   \n",
       "..             ...         ...                   ...              ...   \n",
       "173           1.68        0.61                  0.52             1.06   \n",
       "174           1.80        0.75                  0.43             1.41   \n",
       "175           1.59        0.69                  0.43             1.35   \n",
       "176           1.65        0.68                  0.53             1.46   \n",
       "177           2.05        0.76                  0.56             1.35   \n",
       "\n",
       "     Color intensity   Hue  OD280/OD315  Proline  \n",
       "0               5.64  1.04         3.92     1065  \n",
       "1               4.38  1.05         3.40     1050  \n",
       "2               5.68  1.03         3.17     1185  \n",
       "3               7.80  0.86         3.45     1480  \n",
       "4               4.32  1.04         2.93      735  \n",
       "..               ...   ...          ...      ...  \n",
       "173             7.70  0.64         1.74      740  \n",
       "174             7.30  0.70         1.56      750  \n",
       "175            10.20  0.59         1.56      835  \n",
       "176             9.30  0.60         1.62      840  \n",
       "177             9.20  0.61         1.60      560  \n",
       "\n",
       "[178 rows x 14 columns]"
      ]
     },
     "execution_count": 75,
     "metadata": {},
     "output_type": "execute_result"
    }
   ],
   "source": [
    "title =['class','Alcohol', 'Malic acid', 'Ash', 'Alcalinity of ash', 'Magnesium', 'Total phenols', 'Flavanoids', 'Nonflavanoid phenols',\n",
    "        'Proanthocyanins', 'Color intensity', 'Hue', 'OD280/OD315', 'Proline'] \n",
    "\n",
    "\n",
    "wine = pd.read_csv(r\"C:\\Users\\34626\\Documents\\TRABAJO\\TALENTO DIGITAL\\DATA SCIENCE-BARCELONA ACTIVA\\SPRINT 7.- CLASSIFICACIÓ. ALGORITMES DE APRENENTATGE SUPERVISAT\\wineData.txt\",\n",
    "    sep=',', names = title)\n",
    "\n",
    "wine"
   ]
  },
  {
   "cell_type": "code",
   "execution_count": 16,
   "id": "f10e102e",
   "metadata": {},
   "outputs": [
    {
     "data": {
      "text/plain": [
       "(178, 14)"
      ]
     },
     "execution_count": 16,
     "metadata": {},
     "output_type": "execute_result"
    }
   ],
   "source": [
    "wine.shape"
   ]
  },
  {
   "cell_type": "code",
   "execution_count": 17,
   "id": "3bcbe74d",
   "metadata": {},
   "outputs": [
    {
     "name": "stdout",
     "output_type": "stream",
     "text": [
      "<class 'pandas.core.frame.DataFrame'>\n",
      "RangeIndex: 178 entries, 0 to 177\n",
      "Data columns (total 14 columns):\n",
      " #   Column                Non-Null Count  Dtype  \n",
      "---  ------                --------------  -----  \n",
      " 0   class                 178 non-null    int64  \n",
      " 1   Alcohol               178 non-null    float64\n",
      " 2   Malic acid            178 non-null    float64\n",
      " 3   Ash                   178 non-null    float64\n",
      " 4   Alcalinity of ash     178 non-null    float64\n",
      " 5   Magnesium             178 non-null    int64  \n",
      " 6   Total phenols         178 non-null    float64\n",
      " 7   Flavanoids            178 non-null    float64\n",
      " 8   Nonflavanoid phenols  178 non-null    float64\n",
      " 9   Proanthocyanins       178 non-null    float64\n",
      " 10  Color intensity       178 non-null    float64\n",
      " 11  Hue                   178 non-null    float64\n",
      " 12  OD280/OD315           178 non-null    float64\n",
      " 13  Proline               178 non-null    int64  \n",
      "dtypes: float64(11), int64(3)\n",
      "memory usage: 19.6 KB\n"
     ]
    }
   ],
   "source": [
    "wine.info()\n",
    "# Encara que a l'anunciat del dataset diu que no hi ha nuls, es comprova"
   ]
  },
  {
   "cell_type": "code",
   "execution_count": 18,
   "id": "54f21ecd",
   "metadata": {},
   "outputs": [
    {
     "data": {
      "text/html": [
       "<div>\n",
       "<style scoped>\n",
       "    .dataframe tbody tr th:only-of-type {\n",
       "        vertical-align: middle;\n",
       "    }\n",
       "\n",
       "    .dataframe tbody tr th {\n",
       "        vertical-align: top;\n",
       "    }\n",
       "\n",
       "    .dataframe thead th {\n",
       "        text-align: right;\n",
       "    }\n",
       "</style>\n",
       "<table border=\"1\" class=\"dataframe\">\n",
       "  <thead>\n",
       "    <tr style=\"text-align: right;\">\n",
       "      <th></th>\n",
       "      <th>class</th>\n",
       "      <th>Alcohol</th>\n",
       "      <th>Malic acid</th>\n",
       "      <th>Ash</th>\n",
       "      <th>Alcalinity of ash</th>\n",
       "      <th>Magnesium</th>\n",
       "      <th>Total phenols</th>\n",
       "      <th>Flavanoids</th>\n",
       "      <th>Nonflavanoid phenols</th>\n",
       "      <th>Proanthocyanins</th>\n",
       "      <th>Color intensity</th>\n",
       "      <th>Hue</th>\n",
       "      <th>OD280/OD315</th>\n",
       "      <th>Proline</th>\n",
       "    </tr>\n",
       "  </thead>\n",
       "  <tbody>\n",
       "    <tr>\n",
       "      <th>count</th>\n",
       "      <td>178.000000</td>\n",
       "      <td>178.000000</td>\n",
       "      <td>178.000000</td>\n",
       "      <td>178.000000</td>\n",
       "      <td>178.000000</td>\n",
       "      <td>178.000000</td>\n",
       "      <td>178.000000</td>\n",
       "      <td>178.000000</td>\n",
       "      <td>178.000000</td>\n",
       "      <td>178.000000</td>\n",
       "      <td>178.000000</td>\n",
       "      <td>178.000000</td>\n",
       "      <td>178.000000</td>\n",
       "      <td>178.000000</td>\n",
       "    </tr>\n",
       "    <tr>\n",
       "      <th>mean</th>\n",
       "      <td>1.938202</td>\n",
       "      <td>13.000618</td>\n",
       "      <td>2.336348</td>\n",
       "      <td>2.366517</td>\n",
       "      <td>19.494944</td>\n",
       "      <td>99.741573</td>\n",
       "      <td>2.295112</td>\n",
       "      <td>2.029270</td>\n",
       "      <td>0.361854</td>\n",
       "      <td>1.590899</td>\n",
       "      <td>5.058090</td>\n",
       "      <td>0.957449</td>\n",
       "      <td>2.611685</td>\n",
       "      <td>746.893258</td>\n",
       "    </tr>\n",
       "    <tr>\n",
       "      <th>std</th>\n",
       "      <td>0.775035</td>\n",
       "      <td>0.811827</td>\n",
       "      <td>1.117146</td>\n",
       "      <td>0.274344</td>\n",
       "      <td>3.339564</td>\n",
       "      <td>14.282484</td>\n",
       "      <td>0.625851</td>\n",
       "      <td>0.998859</td>\n",
       "      <td>0.124453</td>\n",
       "      <td>0.572359</td>\n",
       "      <td>2.318286</td>\n",
       "      <td>0.228572</td>\n",
       "      <td>0.709990</td>\n",
       "      <td>314.907474</td>\n",
       "    </tr>\n",
       "    <tr>\n",
       "      <th>min</th>\n",
       "      <td>1.000000</td>\n",
       "      <td>11.030000</td>\n",
       "      <td>0.740000</td>\n",
       "      <td>1.360000</td>\n",
       "      <td>10.600000</td>\n",
       "      <td>70.000000</td>\n",
       "      <td>0.980000</td>\n",
       "      <td>0.340000</td>\n",
       "      <td>0.130000</td>\n",
       "      <td>0.410000</td>\n",
       "      <td>1.280000</td>\n",
       "      <td>0.480000</td>\n",
       "      <td>1.270000</td>\n",
       "      <td>278.000000</td>\n",
       "    </tr>\n",
       "    <tr>\n",
       "      <th>25%</th>\n",
       "      <td>1.000000</td>\n",
       "      <td>12.362500</td>\n",
       "      <td>1.602500</td>\n",
       "      <td>2.210000</td>\n",
       "      <td>17.200000</td>\n",
       "      <td>88.000000</td>\n",
       "      <td>1.742500</td>\n",
       "      <td>1.205000</td>\n",
       "      <td>0.270000</td>\n",
       "      <td>1.250000</td>\n",
       "      <td>3.220000</td>\n",
       "      <td>0.782500</td>\n",
       "      <td>1.937500</td>\n",
       "      <td>500.500000</td>\n",
       "    </tr>\n",
       "    <tr>\n",
       "      <th>50%</th>\n",
       "      <td>2.000000</td>\n",
       "      <td>13.050000</td>\n",
       "      <td>1.865000</td>\n",
       "      <td>2.360000</td>\n",
       "      <td>19.500000</td>\n",
       "      <td>98.000000</td>\n",
       "      <td>2.355000</td>\n",
       "      <td>2.135000</td>\n",
       "      <td>0.340000</td>\n",
       "      <td>1.555000</td>\n",
       "      <td>4.690000</td>\n",
       "      <td>0.965000</td>\n",
       "      <td>2.780000</td>\n",
       "      <td>673.500000</td>\n",
       "    </tr>\n",
       "    <tr>\n",
       "      <th>75%</th>\n",
       "      <td>3.000000</td>\n",
       "      <td>13.677500</td>\n",
       "      <td>3.082500</td>\n",
       "      <td>2.557500</td>\n",
       "      <td>21.500000</td>\n",
       "      <td>107.000000</td>\n",
       "      <td>2.800000</td>\n",
       "      <td>2.875000</td>\n",
       "      <td>0.437500</td>\n",
       "      <td>1.950000</td>\n",
       "      <td>6.200000</td>\n",
       "      <td>1.120000</td>\n",
       "      <td>3.170000</td>\n",
       "      <td>985.000000</td>\n",
       "    </tr>\n",
       "    <tr>\n",
       "      <th>max</th>\n",
       "      <td>3.000000</td>\n",
       "      <td>14.830000</td>\n",
       "      <td>5.800000</td>\n",
       "      <td>3.230000</td>\n",
       "      <td>30.000000</td>\n",
       "      <td>162.000000</td>\n",
       "      <td>3.880000</td>\n",
       "      <td>5.080000</td>\n",
       "      <td>0.660000</td>\n",
       "      <td>3.580000</td>\n",
       "      <td>13.000000</td>\n",
       "      <td>1.710000</td>\n",
       "      <td>4.000000</td>\n",
       "      <td>1680.000000</td>\n",
       "    </tr>\n",
       "  </tbody>\n",
       "</table>\n",
       "</div>"
      ],
      "text/plain": [
       "            class     Alcohol  Malic acid         Ash  Alcalinity of ash  \\\n",
       "count  178.000000  178.000000  178.000000  178.000000         178.000000   \n",
       "mean     1.938202   13.000618    2.336348    2.366517          19.494944   \n",
       "std      0.775035    0.811827    1.117146    0.274344           3.339564   \n",
       "min      1.000000   11.030000    0.740000    1.360000          10.600000   \n",
       "25%      1.000000   12.362500    1.602500    2.210000          17.200000   \n",
       "50%      2.000000   13.050000    1.865000    2.360000          19.500000   \n",
       "75%      3.000000   13.677500    3.082500    2.557500          21.500000   \n",
       "max      3.000000   14.830000    5.800000    3.230000          30.000000   \n",
       "\n",
       "        Magnesium  Total phenols  Flavanoids  Nonflavanoid phenols  \\\n",
       "count  178.000000     178.000000  178.000000            178.000000   \n",
       "mean    99.741573       2.295112    2.029270              0.361854   \n",
       "std     14.282484       0.625851    0.998859              0.124453   \n",
       "min     70.000000       0.980000    0.340000              0.130000   \n",
       "25%     88.000000       1.742500    1.205000              0.270000   \n",
       "50%     98.000000       2.355000    2.135000              0.340000   \n",
       "75%    107.000000       2.800000    2.875000              0.437500   \n",
       "max    162.000000       3.880000    5.080000              0.660000   \n",
       "\n",
       "       Proanthocyanins  Color intensity         Hue  OD280/OD315      Proline  \n",
       "count       178.000000       178.000000  178.000000   178.000000   178.000000  \n",
       "mean          1.590899         5.058090    0.957449     2.611685   746.893258  \n",
       "std           0.572359         2.318286    0.228572     0.709990   314.907474  \n",
       "min           0.410000         1.280000    0.480000     1.270000   278.000000  \n",
       "25%           1.250000         3.220000    0.782500     1.937500   500.500000  \n",
       "50%           1.555000         4.690000    0.965000     2.780000   673.500000  \n",
       "75%           1.950000         6.200000    1.120000     3.170000   985.000000  \n",
       "max           3.580000        13.000000    1.710000     4.000000  1680.000000  "
      ]
     },
     "execution_count": 18,
     "metadata": {},
     "output_type": "execute_result"
    }
   ],
   "source": [
    "wine.describe()\n",
    "# Les variables tenen ordre magnitud molt diferent"
   ]
  },
  {
   "cell_type": "code",
   "execution_count": 10,
   "id": "eed8f780",
   "metadata": {},
   "outputs": [
    {
     "data": {
      "image/png": "[encoded data removed]",
      "text/plain": [
       "<Figure size 864x864 with 13 Axes>"
      ]
     },
     "metadata": {
      "needs_background": "light"
     },
     "output_type": "display_data"
    }
   ],
   "source": [
    "col=wine.drop('class',axis='columns').columns\n",
    "\n",
    "fig,axs =plt.subplots(4,4, figsize=(12,12),layout='constrained')\n",
    "axs=axs.flat\n",
    "fig.suptitle('Histograma de les varaibles dataset wine')\n",
    "\n",
    "for count,elem in enumerate(col):\n",
    "    sns.histplot(\n",
    "        data = wine,\n",
    "        x    = elem,\n",
    "        kde  = True,\n",
    "        ax   = axs[count])\n",
    "\n",
    "#Per borrar els axes que estan buits (fas la llista sobre la que itera la i)\n",
    "for i in [13,14,15]:\n",
    "    fig.delaxes(axs[i])"
   ]
  },
  {
   "cell_type": "code",
   "execution_count": 104,
   "id": "2983527d",
   "metadata": {},
   "outputs": [
    {
     "data": {
      "image/png": "[encoded data removed]",
      "text/plain": [
       "<Figure size 864x864 with 13 Axes>"
      ]
     },
     "metadata": {
      "needs_background": "light"
     },
     "output_type": "display_data"
    }
   ],
   "source": [
    "# Mirem les gràfiques de les variables per veure la distribució en funció de la varaibles categòrica\n",
    "col=wine.drop('class',axis='columns').columns\n",
    "\n",
    "fig,axs =plt.subplots(4,4, figsize=(12,12),layout='constrained')\n",
    "axs=axs.flat\n",
    "fig.suptitle('Relació class amb variables dataset wine')\n",
    "\n",
    "for count,elem in enumerate(col):\n",
    "    sns.barplot(\n",
    "        data = wine,\n",
    "        x    = 'class',\n",
    "        y    = elem,\n",
    "        ax   = axs[count])\n",
    "\n",
    "#Per borrar els axes que estan buits (fas la llista sobre la que itera la i)\n",
    "for i in [13,14,15]:\n",
    "    fig.delaxes(axs[i])"
   ]
  },
  {
   "cell_type": "code",
   "execution_count": 105,
   "id": "baa89c50",
   "metadata": {},
   "outputs": [
    {
     "data": {
      "image/png": "[encoded data removed]",
      "text/plain": [
       "<Figure size 864x864 with 13 Axes>"
      ]
     },
     "metadata": {
      "needs_background": "light"
     },
     "output_type": "display_data"
    }
   ],
   "source": [
    "fig,axs =plt.subplots(4,4, figsize=(12,12),layout='constrained')\n",
    "axs=axs.flat\n",
    "fig.suptitle('Gràfic violí dataset wine')\n",
    "\n",
    "for count,elem in enumerate(col):\n",
    "    sns.boxplot(\n",
    "        data = wine,\n",
    "        x    = 'class',\n",
    "        y    = elem,\n",
    "        ax   = axs[count])\n",
    "\n",
    "#Per borrar els axes que estan buits (fas la llista sobre la que itera la i)\n",
    "for i in [13,14,15]:\n",
    "    fig.delaxes(axs[i])"
   ]
  },
  {
   "cell_type": "code",
   "execution_count": 21,
   "id": "68e53e0b",
   "metadata": {},
   "outputs": [
    {
     "data": {
      "image/png": "[encoded data removed]",
      "text/plain": [
       "<Figure size 1152x504 with 2 Axes>"
      ]
     },
     "metadata": {
      "needs_background": "light"
     },
     "output_type": "display_data"
    }
   ],
   "source": [
    "# Correlació entre variables \n",
    "corr=wine.corr()\n",
    "\n",
    "fig,axs =plt.subplots(figsize=(16,7))\n",
    "sns.set(font_scale=1.1)\n",
    "fig.suptitle('Matriu de correlació-WINE')\n",
    "\n",
    "mask=np.zeros_like(corr)\n",
    "mask[np.triu_indices_from(mask)]= True\n",
    "\n",
    "sns.heatmap(corr, mask=mask, square=True, annot=True, cmap='BrBG')\n",
    "\n",
    "plt.show()"
   ]
  },
  {
   "cell_type": "code",
   "execution_count": 107,
   "id": "fa4aa553",
   "metadata": {},
   "outputs": [],
   "source": [
    "from sklearn.model_selection import train_test_split # per separar en training-test\n",
    "\n",
    "# Separo el dataset en 2 parts per poder entrenar i validar els models posterioment\n",
    "\n",
    "X_train, X_test, y_train, y_test=train_test_split(\n",
    "                                        wine.drop('class', axis='columns'),\n",
    "                                        wine['class'],\n",
    "                                        test_size=0.3,\n",
    "                                        shuffle = True, # el dataset està ordenat i cal barrejar per a que sigui aleatori\n",
    "                                        stratify = wine['class'],   # per a que al separar tinguem proporcions similars de y (no estan balancejades)\n",
    "                                        random_state=25\n",
    "                                        )"
   ]
  },
  {
   "cell_type": "code",
   "execution_count": 132,
   "id": "44486773",
   "metadata": {},
   "outputs": [
    {
     "data": {
      "text/html": [
       "<div>\n",
       "<style scoped>\n",
       "    .dataframe tbody tr th:only-of-type {\n",
       "        vertical-align: middle;\n",
       "    }\n",
       "\n",
       "    .dataframe tbody tr th {\n",
       "        vertical-align: top;\n",
       "    }\n",
       "\n",
       "    .dataframe thead th {\n",
       "        text-align: right;\n",
       "    }\n",
       "</style>\n",
       "<table border=\"1\" class=\"dataframe\">\n",
       "  <thead>\n",
       "    <tr style=\"text-align: right;\">\n",
       "      <th></th>\n",
       "      <th>Alcohol</th>\n",
       "      <th>Malic acid</th>\n",
       "      <th>Ash</th>\n",
       "      <th>Alcalinity of ash</th>\n",
       "      <th>Magnesium</th>\n",
       "      <th>Total phenols</th>\n",
       "      <th>Flavanoids</th>\n",
       "      <th>Nonflavanoid phenols</th>\n",
       "      <th>Proanthocyanins</th>\n",
       "      <th>Color intensity</th>\n",
       "      <th>Hue</th>\n",
       "      <th>OD280/OD315</th>\n",
       "      <th>Proline</th>\n",
       "    </tr>\n",
       "  </thead>\n",
       "  <tbody>\n",
       "    <tr>\n",
       "      <th>0</th>\n",
       "      <td>-1.237301</td>\n",
       "      <td>-0.763706</td>\n",
       "      <td>0.218640</td>\n",
       "      <td>0.714702</td>\n",
       "      <td>-0.967448</td>\n",
       "      <td>-1.371336</td>\n",
       "      <td>-0.814683</td>\n",
       "      <td>1.122204</td>\n",
       "      <td>0.034515</td>\n",
       "      <td>-0.620430</td>\n",
       "      <td>0.386845</td>\n",
       "      <td>0.052974</td>\n",
       "      <td>-0.931064</td>\n",
       "    </tr>\n",
       "    <tr>\n",
       "      <th>1</th>\n",
       "      <td>-0.254762</td>\n",
       "      <td>0.292152</td>\n",
       "      <td>0.456112</td>\n",
       "      <td>0.714702</td>\n",
       "      <td>0.868368</td>\n",
       "      <td>-1.320987</td>\n",
       "      <td>-0.698555</td>\n",
       "      <td>-1.002274</td>\n",
       "      <td>-0.622564</td>\n",
       "      <td>2.402656</td>\n",
       "      <td>-2.172325</td>\n",
       "      <td>-1.688843</td>\n",
       "      <td>-0.835221</td>\n",
       "    </tr>\n",
       "    <tr>\n",
       "      <th>2</th>\n",
       "      <td>-0.180139</td>\n",
       "      <td>0.838286</td>\n",
       "      <td>0.851898</td>\n",
       "      <td>0.714702</td>\n",
       "      <td>0.444718</td>\n",
       "      <td>-1.035675</td>\n",
       "      <td>-1.500893</td>\n",
       "      <td>1.939311</td>\n",
       "      <td>-1.155331</td>\n",
       "      <td>0.210919</td>\n",
       "      <td>-0.421314</td>\n",
       "      <td>-0.744129</td>\n",
       "      <td>-0.547694</td>\n",
       "    </tr>\n",
       "    <tr>\n",
       "      <th>3</th>\n",
       "      <td>-0.677627</td>\n",
       "      <td>0.619832</td>\n",
       "      <td>1.089370</td>\n",
       "      <td>2.230144</td>\n",
       "      <td>-0.190756</td>\n",
       "      <td>-0.616099</td>\n",
       "      <td>-1.522007</td>\n",
       "      <td>2.184443</td>\n",
       "      <td>-0.835671</td>\n",
       "      <td>1.017075</td>\n",
       "      <td>-1.319269</td>\n",
       "      <td>-1.305053</td>\n",
       "      <td>0.442679</td>\n",
       "    </tr>\n",
       "    <tr>\n",
       "      <th>4</th>\n",
       "      <td>-1.685040</td>\n",
       "      <td>-0.263084</td>\n",
       "      <td>0.376955</td>\n",
       "      <td>0.593467</td>\n",
       "      <td>-1.108664</td>\n",
       "      <td>-0.532184</td>\n",
       "      <td>-0.350171</td>\n",
       "      <td>0.958783</td>\n",
       "      <td>-0.462734</td>\n",
       "      <td>-0.956329</td>\n",
       "      <td>0.162356</td>\n",
       "      <td>0.200585</td>\n",
       "      <td>-0.196271</td>\n",
       "    </tr>\n",
       "    <tr>\n",
       "      <th>...</th>\n",
       "      <td>...</td>\n",
       "      <td>...</td>\n",
       "      <td>...</td>\n",
       "      <td>...</td>\n",
       "      <td>...</td>\n",
       "      <td>...</td>\n",
       "      <td>...</td>\n",
       "      <td>...</td>\n",
       "      <td>...</td>\n",
       "      <td>...</td>\n",
       "      <td>...</td>\n",
       "      <td>...</td>\n",
       "      <td>...</td>\n",
       "    </tr>\n",
       "    <tr>\n",
       "      <th>119</th>\n",
       "      <td>0.068605</td>\n",
       "      <td>-0.563457</td>\n",
       "      <td>-1.285348</td>\n",
       "      <td>-2.194947</td>\n",
       "      <td>-0.543798</td>\n",
       "      <td>0.760109</td>\n",
       "      <td>1.317847</td>\n",
       "      <td>-1.574249</td>\n",
       "      <td>2.307654</td>\n",
       "      <td>0.891113</td>\n",
       "      <td>0.701129</td>\n",
       "      <td>0.436764</td>\n",
       "      <td>1.305262</td>\n",
       "    </tr>\n",
       "    <tr>\n",
       "      <th>120</th>\n",
       "      <td>-0.714938</td>\n",
       "      <td>-0.672684</td>\n",
       "      <td>-0.691669</td>\n",
       "      <td>0.866246</td>\n",
       "      <td>0.585935</td>\n",
       "      <td>-0.448269</td>\n",
       "      <td>0.072112</td>\n",
       "      <td>-0.185167</td>\n",
       "      <td>-0.001003</td>\n",
       "      <td>-1.267035</td>\n",
       "      <td>0.431742</td>\n",
       "      <td>0.510569</td>\n",
       "      <td>-1.266513</td>\n",
       "    </tr>\n",
       "    <tr>\n",
       "      <th>121</th>\n",
       "      <td>-0.217450</td>\n",
       "      <td>0.929308</td>\n",
       "      <td>-0.256304</td>\n",
       "      <td>-0.043019</td>\n",
       "      <td>-0.826231</td>\n",
       "      <td>-1.320987</td>\n",
       "      <td>-1.437551</td>\n",
       "      <td>0.305097</td>\n",
       "      <td>-1.137572</td>\n",
       "      <td>2.175925</td>\n",
       "      <td>-1.094780</td>\n",
       "      <td>-1.275530</td>\n",
       "      <td>-0.180297</td>\n",
       "    </tr>\n",
       "    <tr>\n",
       "      <th>122</th>\n",
       "      <td>0.217852</td>\n",
       "      <td>2.585914</td>\n",
       "      <td>-0.177146</td>\n",
       "      <td>0.714702</td>\n",
       "      <td>-0.473190</td>\n",
       "      <td>-0.884628</td>\n",
       "      <td>-1.469222</td>\n",
       "      <td>2.021022</td>\n",
       "      <td>-0.107556</td>\n",
       "      <td>1.185024</td>\n",
       "      <td>-1.633553</td>\n",
       "      <td>-1.674082</td>\n",
       "      <td>-0.052507</td>\n",
       "    </tr>\n",
       "    <tr>\n",
       "      <th>123</th>\n",
       "      <td>-1.660165</td>\n",
       "      <td>-0.426924</td>\n",
       "      <td>-1.760292</td>\n",
       "      <td>-1.103829</td>\n",
       "      <td>-0.190756</td>\n",
       "      <td>-1.102807</td>\n",
       "      <td>-0.476856</td>\n",
       "      <td>-0.185167</td>\n",
       "      <td>-0.817912</td>\n",
       "      <td>-0.536456</td>\n",
       "      <td>1.195003</td>\n",
       "      <td>-0.699845</td>\n",
       "      <td>-1.001348</td>\n",
       "    </tr>\n",
       "  </tbody>\n",
       "</table>\n",
       "<p>124 rows × 13 columns</p>\n",
       "</div>"
      ],
      "text/plain": [
       "      Alcohol  Malic acid       Ash  Alcalinity of ash  Magnesium  \\\n",
       "0   -1.237301   -0.763706  0.218640           0.714702  -0.967448   \n",
       "1   -0.254762    0.292152  0.456112           0.714702   0.868368   \n",
       "2   -0.180139    0.838286  0.851898           0.714702   0.444718   \n",
       "3   -0.677627    0.619832  1.089370           2.230144  -0.190756   \n",
       "4   -1.685040   -0.263084  0.376955           0.593467  -1.108664   \n",
       "..        ...         ...       ...                ...        ...   \n",
       "119  0.068605   -0.563457 -1.285348          -2.194947  -0.543798   \n",
       "120 -0.714938   -0.672684 -0.691669           0.866246   0.585935   \n",
       "121 -0.217450    0.929308 -0.256304          -0.043019  -0.826231   \n",
       "122  0.217852    2.585914 -0.177146           0.714702  -0.473190   \n",
       "123 -1.660165   -0.426924 -1.760292          -1.103829  -0.190756   \n",
       "\n",
       "     Total phenols  Flavanoids  Nonflavanoid phenols  Proanthocyanins  \\\n",
       "0        -1.371336   -0.814683              1.122204         0.034515   \n",
       "1        -1.320987   -0.698555             -1.002274        -0.622564   \n",
       "2        -1.035675   -1.500893              1.939311        -1.155331   \n",
       "3        -0.616099   -1.522007              2.184443        -0.835671   \n",
       "4        -0.532184   -0.350171              0.958783        -0.462734   \n",
       "..             ...         ...                   ...              ...   \n",
       "119       0.760109    1.317847             -1.574249         2.307654   \n",
       "120      -0.448269    0.072112             -0.185167        -0.001003   \n",
       "121      -1.320987   -1.437551              0.305097        -1.137572   \n",
       "122      -0.884628   -1.469222              2.021022        -0.107556   \n",
       "123      -1.102807   -0.476856             -0.185167        -0.817912   \n",
       "\n",
       "     Color intensity       Hue  OD280/OD315   Proline  \n",
       "0          -0.620430  0.386845     0.052974 -0.931064  \n",
       "1           2.402656 -2.172325    -1.688843 -0.835221  \n",
       "2           0.210919 -0.421314    -0.744129 -0.547694  \n",
       "3           1.017075 -1.319269    -1.305053  0.442679  \n",
       "4          -0.956329  0.162356     0.200585 -0.196271  \n",
       "..               ...       ...          ...       ...  \n",
       "119         0.891113  0.701129     0.436764  1.305262  \n",
       "120        -1.267035  0.431742     0.510569 -1.266513  \n",
       "121         2.175925 -1.094780    -1.275530 -0.180297  \n",
       "122         1.185024 -1.633553    -1.674082 -0.052507  \n",
       "123        -0.536456  1.195003    -0.699845 -1.001348  \n",
       "\n",
       "[124 rows x 13 columns]"
      ]
     },
     "execution_count": 132,
     "metadata": {},
     "output_type": "execute_result"
    }
   ],
   "source": [
    "from sklearn.preprocessing import StandardScaler\n",
    "\n",
    "lista = ['Alcohol', 'Malic acid', 'Ash', 'Alcalinity of ash', 'Magnesium', 'Total phenols', 'Flavanoids', 'Nonflavanoid phenols',\n",
    "        'Proanthocyanins', 'Color intensity', 'Hue', 'OD280/OD315', 'Proline'] \n",
    "scaler= StandardScaler()\n",
    "X_train_tra = scaler.fit_transform(X_train)\n",
    "X_test_tra = scaler.transform (X_test)\n",
    "X_train_tra=pd.DataFrame(X_train_tra, columns=lista)\n",
    "X_test_tra=pd.DataFrame(X_test_tra, columns=lista)\n",
    "X_train_tra"
   ]
  },
  {
   "cell_type": "markdown",
   "id": "15f8d3ca",
   "metadata": {},
   "source": [
    "## Exercici 1"
   ]
  },
  {
   "cell_type": "code",
   "execution_count": 109,
   "id": "048a8426",
   "metadata": {},
   "outputs": [],
   "source": [
    "# Model 1  \n",
    "# He escollit aquest model perquè és senzill i sembla bo per comparar amb els altres\n",
    "\n",
    "from sklearn.linear_model import LogisticRegression\n",
    "\n",
    "logreg = LogisticRegression(random_state = 15)\n",
    "logreg.fit(X_train_tra, y_train)\n",
    "\n",
    "y_pred_logreg = logreg.predict(X_test_tra)"
   ]
  },
  {
   "cell_type": "code",
   "execution_count": 110,
   "id": "30a77e7b",
   "metadata": {},
   "outputs": [],
   "source": [
    "# Model 2\n",
    "\n",
    "from sklearn.neighbors import KNeighborsClassifier\n",
    "\n",
    "knn = KNeighborsClassifier(n_neighbors=5)\n",
    "knn.fit(X_train_tra, y_train)\n",
    "\n",
    "y_pred_knn = knn.predict(X_test_tra)\n"
   ]
  },
  {
   "cell_type": "code",
   "execution_count": 111,
   "id": "abbecc40",
   "metadata": {},
   "outputs": [],
   "source": [
    "# Model 3\n",
    "\n",
    "from sklearn.ensemble import GradientBoostingClassifier \n",
    "\n",
    "xbgb = GradientBoostingClassifier()\n",
    "xbgb.fit(X_train_tra,y_train)\n",
    "\n",
    "y_pred_xbgb = xbgb.predict(X_test_tra)\n"
   ]
  },
  {
   "cell_type": "markdown",
   "id": "806b88f8",
   "metadata": {},
   "source": [
    "## Exercici 2"
   ]
  },
  {
   "cell_type": "code",
   "execution_count": 112,
   "id": "1f9f1619",
   "metadata": {},
   "outputs": [
    {
     "name": "stdout",
     "output_type": "stream",
     "text": [
      "Logistic Regression 0.9814814814814815\n",
      "KNN 0.9444444444444444\n",
      "Gradient Boosting 0.9814814814814815\n"
     ]
    }
   ],
   "source": [
    "from sklearn import metrics\n",
    "\n",
    "print('Logistic Regression', metrics.accuracy_score(y_test, y_pred_logreg))\n",
    "print('KNN', metrics.accuracy_score(y_test, y_pred_knn))\n",
    "print('Gradient Boosting', metrics.accuracy_score(y_test, y_pred_xbgb))"
   ]
  },
  {
   "cell_type": "code",
   "execution_count": 113,
   "id": "9b7c7d5e",
   "metadata": {},
   "outputs": [],
   "source": [
    "# Per calcular l'accuracy del train set\n",
    "y_train_logreg = logreg.predict(X_train_tra)\n",
    "y_train_knn = knn.predict(X_train_tra)\n",
    "y_train_xbgb = xbgb.predict(X_train_tra)"
   ]
  },
  {
   "cell_type": "code",
   "execution_count": 133,
   "id": "53dc72f4",
   "metadata": {},
   "outputs": [
    {
     "name": "stdout",
     "output_type": "stream",
     "text": [
      "Logistic Regression 1.0\n",
      "KNN 0.9758064516129032\n",
      "Gradient Boosting 1.0\n"
     ]
    }
   ],
   "source": [
    "# Aquest seria el resultat si treballem amb el set train. Em surt una accuracy molt alta, que sembla sospitosa de que hi ha algo\n",
    "# que no està bé. Però entenc que necessitem aquests parametres despres per avaluar els hiperparàmetres del model al següent\n",
    "# exercici\n",
    "print('Logistic Regression', metrics.accuracy_score(y_train, y_train_logreg))\n",
    "print('KNN', metrics.accuracy_score(y_train, y_train_knn))\n",
    "print('Gradient Boosting', metrics.accuracy_score(y_train, y_train_xbgb))"
   ]
  },
  {
   "cell_type": "code",
   "execution_count": 115,
   "id": "00f02ec5",
   "metadata": {},
   "outputs": [
    {
     "data": {
      "image/png": "[encoded data removed]",
      "text/plain": [
       "<Figure size 432x288 with 2 Axes>"
      ]
     },
     "metadata": {
      "needs_background": "light"
     },
     "output_type": "display_data"
    },
    {
     "name": "stdout",
     "output_type": "stream",
     "text": [
      "              precision    recall  f1-score   support\n",
      "\n",
      "           1       0.95      1.00      0.97        18\n",
      "           2       1.00      0.95      0.98        21\n",
      "           3       1.00      1.00      1.00        15\n",
      "\n",
      "    accuracy                           0.98        54\n",
      "   macro avg       0.98      0.98      0.98        54\n",
      "weighted avg       0.98      0.98      0.98        54\n",
      "\n"
     ]
    }
   ],
   "source": [
    "clases_nombres =['Clase 1', 'Clase 2', 'Clase 3']\n",
    "\n",
    "cm_logreg = pd.DataFrame(metrics.confusion_matrix(y_test, y_pred_logreg))\n",
    "\n",
    "sns.heatmap(cm_logreg, annot=True, fmt='d')\n",
    "\n",
    "plt.show()\n",
    "\n",
    "print(metrics.classification_report(y_test, y_pred_logreg))\n"
   ]
  },
  {
   "cell_type": "code",
   "execution_count": 116,
   "id": "63850a47",
   "metadata": {},
   "outputs": [
    {
     "data": {
      "image/png": "[encoded data removed]",
      "text/plain": [
       "<Figure size 432x288 with 2 Axes>"
      ]
     },
     "metadata": {
      "needs_background": "light"
     },
     "output_type": "display_data"
    },
    {
     "name": "stdout",
     "output_type": "stream",
     "text": [
      "              precision    recall  f1-score   support\n",
      "\n",
      "           1       0.95      1.00      0.97        18\n",
      "           2       0.95      0.90      0.93        21\n",
      "           3       0.93      0.93      0.93        15\n",
      "\n",
      "    accuracy                           0.94        54\n",
      "   macro avg       0.94      0.95      0.94        54\n",
      "weighted avg       0.94      0.94      0.94        54\n",
      "\n"
     ]
    }
   ],
   "source": [
    "cm_knn = pd.DataFrame(metrics.confusion_matrix(y_test, y_pred_knn))\n",
    "\n",
    "sns.heatmap(cm_knn, annot=True, fmt='d')\n",
    "\n",
    "plt.show()\n",
    "\n",
    "print(metrics.classification_report(y_test, y_pred_knn))\n",
    "\n",
    "# Class 0 TP = 20, FN = 0+0 (suma de las fila-excepto TP), FP = 1+0 (suma de las columna-excepto TP), TN = 18+3+0+12 (la suma de\n",
    "# filas y columnas que no pertenecen a esa clase)\n",
    "# Clase 1 TP = 18 FN = 1+3, FP =0+0, TN = 20+0+0+12\n",
    "# Clase 2 TP = 12, FN = 0+0, FP = 3+0, TN = 20+0+1+18"
   ]
  },
  {
   "cell_type": "code",
   "execution_count": 117,
   "id": "9d14af11",
   "metadata": {},
   "outputs": [
    {
     "data": {
      "image/png": "[encoded data removed]",
      "text/plain": [
       "<Figure size 432x288 with 2 Axes>"
      ]
     },
     "metadata": {
      "needs_background": "light"
     },
     "output_type": "display_data"
    },
    {
     "name": "stdout",
     "output_type": "stream",
     "text": [
      "              precision    recall  f1-score   support\n",
      "\n",
      "           1       0.95      1.00      0.97        18\n",
      "           2       1.00      0.95      0.98        21\n",
      "           3       1.00      1.00      1.00        15\n",
      "\n",
      "    accuracy                           0.98        54\n",
      "   macro avg       0.98      0.98      0.98        54\n",
      "weighted avg       0.98      0.98      0.98        54\n",
      "\n"
     ]
    }
   ],
   "source": [
    "cm_xbgb = pd.DataFrame(metrics.confusion_matrix(y_test, y_pred_xbgb))\n",
    "\n",
    "sns.heatmap(cm_xbgb, annot=True, fmt='d')\n",
    "\n",
    "plt.show()\n",
    "\n",
    "print(metrics.classification_report(y_test, y_pred_xbgb))"
   ]
  },
  {
   "cell_type": "markdown",
   "id": "4d091740",
   "metadata": {},
   "source": [
    "##### AUC"
   ]
  },
  {
   "cell_type": "code",
   "execution_count": 118,
   "id": "bd926fac",
   "metadata": {},
   "outputs": [
    {
     "name": "stdout",
     "output_type": "stream",
     "text": [
      "0.9995189995189996\n"
     ]
    }
   ],
   "source": [
    "y_pred_proba_logreg = logreg.predict_proba(X_test_tra)\n",
    "print(metrics.roc_auc_score(y_test, y_pred_proba_logreg, multi_class ='ovr'))"
   ]
  },
  {
   "cell_type": "code",
   "execution_count": 119,
   "id": "913ea0e9",
   "metadata": {},
   "outputs": [
    {
     "name": "stdout",
     "output_type": "stream",
     "text": [
      "0.9969363969363969\n"
     ]
    }
   ],
   "source": [
    "y_pred_proba_knn = knn.predict_proba(X_test_tra)\n",
    "print(metrics.roc_auc_score(y_test, y_pred_proba_knn, multi_class ='ovr'))"
   ]
  },
  {
   "cell_type": "code",
   "execution_count": 120,
   "id": "72ab3aae",
   "metadata": {},
   "outputs": [
    {
     "name": "stdout",
     "output_type": "stream",
     "text": [
      "0.997047191491636\n"
     ]
    }
   ],
   "source": [
    "y_pred_proba_xbgb = xbgb.predict_proba(X_test_tra)\n",
    "print(metrics.roc_auc_score(y_test, y_pred_proba_xbgb, multi_class ='ovr'))"
   ]
  },
  {
   "cell_type": "markdown",
   "id": "3add83b1",
   "metadata": {},
   "source": [
    "## Exercici 3"
   ]
  },
  {
   "cell_type": "markdown",
   "id": "2e8f7ae7",
   "metadata": {},
   "source": [
    "Segons https://medium.com/@data.science.enthusiast/logistic-regression-tune-hyperparameters-python-code-fintech-does-it-bring-any-value-619e172565e6 els principals hyperparàmtres per la regressió logistica son: solver, penalty y regularization strenght"
   ]
  },
  {
   "cell_type": "code",
   "execution_count": 121,
   "id": "522d0812",
   "metadata": {},
   "outputs": [],
   "source": [
    "# Logistic Regression\n",
    "param_logreg = {'solver' : ['liblinear', 'newton-cg'],\n",
    "                'penalty': [ 'l2'],\n",
    "                'C'      : [0.001,0.01,0.1,1,10,100,1000]\n",
    "               }\n",
    "\n"
   ]
  },
  {
   "cell_type": "code",
   "execution_count": 122,
   "id": "9dbd990c",
   "metadata": {},
   "outputs": [],
   "source": [
    "from sklearn.model_selection import GridSearchCV, RepeatedKFold\n",
    "grid_logreg = GridSearchCV(\n",
    "            estimator  = LogisticRegression(random_state = 15),\n",
    "            param_grid = param_logreg,\n",
    "            scoring    = 'accuracy',\n",
    "            n_jobs     = 5,\n",
    "            cv         = RepeatedKFold(n_splits = 5, n_repeats =5),\n",
    "            return_train_score = True,\n",
    "            error_score= 'raise')\n",
    "\n",
    "result=grid_logreg.fit(X= X_train_tra, y= y_train)"
   ]
  },
  {
   "cell_type": "code",
   "execution_count": 123,
   "id": "f44a361f",
   "metadata": {},
   "outputs": [
    {
     "data": {
      "text/plain": [
       "{'C': 1000, 'penalty': 'l2', 'solver': 'newton-cg'}"
      ]
     },
     "execution_count": 123,
     "metadata": {},
     "output_type": "execute_result"
    }
   ],
   "source": [
    "grid_logreg.best_params_  # Aquests serien els paràmetres si avaluem en funció del train set"
   ]
  },
  {
   "cell_type": "code",
   "execution_count": 124,
   "id": "17192071",
   "metadata": {},
   "outputs": [
    {
     "data": {
      "text/plain": [
       "0.9936"
      ]
     },
     "execution_count": 124,
     "metadata": {},
     "output_type": "execute_result"
    }
   ],
   "source": [
    "grid_logreg.best_score_  # Aquest resultat seria per al model aplicat al train set"
   ]
  },
  {
   "cell_type": "code",
   "execution_count": 152,
   "id": "5f0d462f",
   "metadata": {},
   "outputs": [
    {
     "data": {
      "text/plain": [
       "'accuracy'"
      ]
     },
     "execution_count": 152,
     "metadata": {},
     "output_type": "execute_result"
    }
   ],
   "source": [
    "grid_logreg.scoring"
   ]
  },
  {
   "cell_type": "code",
   "execution_count": 125,
   "id": "93c2dfeb",
   "metadata": {},
   "outputs": [],
   "source": [
    "# Per aplicar el model òptim del fit al test set i fer prediccions\n",
    "logreg_best = LogisticRegression(random_state = 15,\n",
    "                                 C = 1000,\n",
    "                                 penalty = 'l2',\n",
    "                                 solver = 'newton-cg')\n",
    "logreg_best.fit(X_train_tra, y_train)\n",
    "\n",
    "y_pred_logreg_best = logreg_best.predict(X_test_tra)"
   ]
  },
  {
   "cell_type": "code",
   "execution_count": 126,
   "id": "a3e7c56e",
   "metadata": {},
   "outputs": [
    {
     "name": "stdout",
     "output_type": "stream",
     "text": [
      "Logistic Regression 0.9444444444444444\n"
     ]
    }
   ],
   "source": [
    "print('Logistic Regression', metrics.accuracy_score(y_test, y_pred_logreg_best))"
   ]
  },
  {
   "cell_type": "code",
   "execution_count": null,
   "id": "0ae67428",
   "metadata": {},
   "outputs": [],
   "source": [
    "# Amb l'aplicació d'aquest hiperparàmetres no s'ha millorat l'ajust del model (que ja era molt alt)"
   ]
  },
  {
   "cell_type": "markdown",
   "id": "3e33e795",
   "metadata": {},
   "source": [
    "Segons https://medium.com/@erikgreenj/k-neighbors-classifier-with-gridsearchcv-basics-3c445ddeb657 valors d'alguns hiperparàmetres que es poden utilitzar"
   ]
  },
  {
   "cell_type": "code",
   "execution_count": 134,
   "id": "d56d3f9e",
   "metadata": {},
   "outputs": [
    {
     "name": "stdout",
     "output_type": "stream",
     "text": [
      "Fitting 25 folds for each of 16 candidates, totalling 400 fits\n"
     ]
    }
   ],
   "source": [
    "# KNN\n",
    "\n",
    "\n",
    "param_knn = {'n_neighbors' : [3,5,7,9],\n",
    "             'weights'    : ['uniform', 'distance'],\n",
    "             'metric'     : ['euclidean', 'manhattan']\n",
    "            }\n",
    "\n",
    "grid_knn  = GridSearchCV(\n",
    "            estimator  = KNeighborsClassifier(),\n",
    "            param_grid = param_knn,\n",
    "            scoring    = 'accuracy',\n",
    "            n_jobs     = 5,\n",
    "            cv         = RepeatedKFold(n_splits = 5, n_repeats =5),\n",
    "            return_train_score = True,\n",
    "            error_score= 'raise',\n",
    "            verbose    = 1)\n",
    "\n",
    "result_knn = grid_knn.fit(X_train_tra, y_train)"
   ]
  },
  {
   "cell_type": "code",
   "execution_count": 135,
   "id": "e03628ec",
   "metadata": {},
   "outputs": [
    {
     "data": {
      "text/plain": [
       "{'metric': 'manhattan', 'n_neighbors': 5, 'weights': 'uniform'}"
      ]
     },
     "execution_count": 135,
     "metadata": {},
     "output_type": "execute_result"
    }
   ],
   "source": [
    "grid_knn.best_params_"
   ]
  },
  {
   "cell_type": "code",
   "execution_count": 136,
   "id": "d5c56779",
   "metadata": {},
   "outputs": [
    {
     "data": {
      "text/plain": [
       "0.9775999999999999"
      ]
     },
     "execution_count": 136,
     "metadata": {},
     "output_type": "execute_result"
    }
   ],
   "source": [
    "grid_knn.best_score_\n",
    "# Amb aquests hiperparàmetres no s'ha millorat l'accuracy del model. Mirem si al train té algun efecte"
   ]
  },
  {
   "cell_type": "code",
   "execution_count": 137,
   "id": "ad6e4e58",
   "metadata": {},
   "outputs": [],
   "source": [
    "knn_best = KNeighborsClassifier (metric      = 'manhattan',\n",
    "                                 n_neighbors = 5,\n",
    "                                 weights     = 'uniform')\n",
    "knn_best.fit(X_train_tra, y_train)\n",
    "\n",
    "y_pred_knn_best = knn_best.predict(X_test_tra)"
   ]
  },
  {
   "cell_type": "code",
   "execution_count": 138,
   "id": "36eb7d54",
   "metadata": {},
   "outputs": [
    {
     "name": "stdout",
     "output_type": "stream",
     "text": [
      "knn 0.9629629629629629\n"
     ]
    }
   ],
   "source": [
    "print('knn', metrics.accuracy_score(y_test, y_pred_knn_best))\n",
    "\n",
    "# Aquí ha sortit un ajust millor al test set, però inferior al que es troba amb els paràmetres per defecte"
   ]
  },
  {
   "cell_type": "code",
   "execution_count": 139,
   "id": "f8153be7",
   "metadata": {},
   "outputs": [
    {
     "name": "stdout",
     "output_type": "stream",
     "text": [
      "Fitting 25 folds for each of 100 candidates, totalling 2500 fits\n"
     ]
    }
   ],
   "source": [
    "# Gradient Boosting\n",
    "\n",
    "param_xbgb = {'learning_rate' : [0.01, 0.1, 1, 10, 100],\n",
    "               'max_depth' :    [1, 3, 5, 7, 9],\n",
    "               'n_estimators' : [5, 50, 250, 500]\n",
    "             }\n",
    "grid_xbgb  = GridSearchCV(\n",
    "            estimator  = GradientBoostingClassifier(),\n",
    "            param_grid = param_xbgb,\n",
    "            scoring    = 'accuracy',\n",
    "            n_jobs     = 5,\n",
    "            cv         = RepeatedKFold(n_splits = 5, n_repeats =5),\n",
    "            return_train_score = True,\n",
    "            error_score= 'raise',\n",
    "            verbose    = 1)\n",
    "\n",
    "result_xbgb = grid_xbgb.fit(X_train_tra, y_train)       "
   ]
  },
  {
   "cell_type": "code",
   "execution_count": 140,
   "id": "59525e4b",
   "metadata": {},
   "outputs": [
    {
     "data": {
      "text/plain": [
       "{'learning_rate': 1, 'max_depth': 1, 'n_estimators': 500}"
      ]
     },
     "execution_count": 140,
     "metadata": {},
     "output_type": "execute_result"
    }
   ],
   "source": [
    "grid_xbgb.best_params_"
   ]
  },
  {
   "cell_type": "code",
   "execution_count": 141,
   "id": "354d2706",
   "metadata": {},
   "outputs": [
    {
     "data": {
      "text/plain": [
       "0.9725999999999999"
      ]
     },
     "execution_count": 141,
     "metadata": {},
     "output_type": "execute_result"
    }
   ],
   "source": [
    "grid_xbgb.best_score_"
   ]
  },
  {
   "cell_type": "code",
   "execution_count": 142,
   "id": "b7bc65f0",
   "metadata": {},
   "outputs": [],
   "source": [
    "xbgb_best = GradientBoostingClassifier (learning_rate = 1,\n",
    "                                        max_depth     = 1,\n",
    "                                        n_estimators  = 500)\n",
    "xbgb_best.fit(X_train_tra, y_train)\n",
    "\n",
    "y_pred_xbgn_best = xbgb_best.predict(X_test_tra)"
   ]
  },
  {
   "cell_type": "code",
   "execution_count": 143,
   "id": "c11a5c72",
   "metadata": {},
   "outputs": [
    {
     "name": "stdout",
     "output_type": "stream",
     "text": [
      "Gradient Boosting 0.9814814814814815\n"
     ]
    }
   ],
   "source": [
    "print('Gradient Boosting', metrics.accuracy_score(y_test, y_pred_xbgb))\n",
    "# El model s'ajusta molt be al train set però no funciona bé al test."
   ]
  },
  {
   "cell_type": "markdown",
   "id": "7f9ee34d",
   "metadata": {},
   "source": [
    "## Exercici 4"
   ]
  },
  {
   "cell_type": "code",
   "execution_count": 88,
   "id": "0175e8c0",
   "metadata": {},
   "outputs": [],
   "source": [
    "# Cross validation score utiliza kfold para regresión logistica en el train\n",
    "from sklearn.model_selection import cross_val_score\n",
    "cv_scores = cross_val_score(\n",
    "                    estimator = LogisticRegression(random_state = 15),\n",
    "                    X         = X_train_tra,\n",
    "                    y         = y_train,\n",
    "                    scoring   = 'accuracy',   #metrica para medir la distancia entre modelo y datos. \n",
    "                    cv        = 10)  # numero de veces que hace la cross validatrion"
   ]
  },
  {
   "cell_type": "code",
   "execution_count": 89,
   "id": "c0228c8d",
   "metadata": {},
   "outputs": [
    {
     "data": {
      "text/plain": [
       "0.9749999999999999"
      ]
     },
     "execution_count": 89,
     "metadata": {},
     "output_type": "execute_result"
    }
   ],
   "source": [
    "cv_scores.mean()"
   ]
  },
  {
   "cell_type": "code",
   "execution_count": 92,
   "id": "8cb5d9b1",
   "metadata": {},
   "outputs": [],
   "source": [
    "# Cross validation score utiliza kfold para regresión logistica en el test\n",
    "cv_scores = cross_val_score(\n",
    "                    estimator = LogisticRegression(random_state = 15),\n",
    "                    X         = X_test_tra,\n",
    "                    y         = y_test,\n",
    "                    scoring   = 'accuracy',   #metrica para medir la distancia entre modelo y datos. \n",
    "                    cv        = 10)  # numero de veces que hace la cross validatrion"
   ]
  },
  {
   "cell_type": "code",
   "execution_count": 93,
   "id": "514755f2",
   "metadata": {},
   "outputs": [
    {
     "data": {
      "text/plain": [
       "1.0"
      ]
     },
     "execution_count": 93,
     "metadata": {},
     "output_type": "execute_result"
    }
   ],
   "source": [
    "cv_scores.mean()"
   ]
  },
  {
   "cell_type": "markdown",
   "id": "d842d607",
   "metadata": {},
   "source": [
    "El resultat amb el train set del **train/test** és 1.0, amb el mètode **cross-validation** és 0.9749999999999999. El resultat amb el test set del train/test és 0.9814814814814815, amb el mètode cross-validation és 1.0 ."
   ]
  },
  {
   "cell_type": "code",
   "execution_count": 102,
   "id": "59f4c4fa",
   "metadata": {},
   "outputs": [],
   "source": [
    "# Cross validation score utiliza kfold para KNN-neighbors a en el train\n",
    "\n",
    "cv_scores = cross_val_score(\n",
    "                    estimator = KNeighborsClassifier(),\n",
    "                    X         = X_train_tra,\n",
    "                    y         = y_train,\n",
    "                    scoring   = 'accuracy',   #metrica para medir la distancia entre modelo y datos. \n",
    "                    cv        = 10)  # numero de veces que hace la cross validatrion"
   ]
  },
  {
   "cell_type": "code",
   "execution_count": 95,
   "id": "1be7f396",
   "metadata": {},
   "outputs": [
    {
     "data": {
      "text/plain": [
       "0.9423076923076923"
      ]
     },
     "execution_count": 95,
     "metadata": {},
     "output_type": "execute_result"
    }
   ],
   "source": [
    "cv_scores.mean()"
   ]
  },
  {
   "cell_type": "code",
   "execution_count": 96,
   "id": "700bc7fe",
   "metadata": {},
   "outputs": [],
   "source": [
    "cv_scores = cross_val_score(\n",
    "                    estimator = KNeighborsClassifier(),\n",
    "                    X         = X_test_tra,\n",
    "                    y         = y_test,\n",
    "                    scoring   = 'accuracy',   #metrica para medir la distancia entre modelo y datos. \n",
    "                    cv        = 10)  # numero de veces que hace la cross validatrion"
   ]
  },
  {
   "cell_type": "code",
   "execution_count": 97,
   "id": "18358375",
   "metadata": {},
   "outputs": [
    {
     "data": {
      "text/plain": [
       "0.9833333333333334"
      ]
     },
     "execution_count": 97,
     "metadata": {},
     "output_type": "execute_result"
    }
   ],
   "source": [
    "cv_scores.mean()"
   ]
  },
  {
   "cell_type": "markdown",
   "id": "dfc296c2",
   "metadata": {},
   "source": [
    "El resultat amb el train set del **train/test** és 0.9758064516129032, amb el mètode **cross-validation** és 0.9423076923076923. El resultat amb el test set del **train/test** és 0.9444444444444444, amb el mètode **cross-validation** és 0.9833333333333334. "
   ]
  },
  {
   "cell_type": "code",
   "execution_count": 98,
   "id": "6c4211ae",
   "metadata": {},
   "outputs": [],
   "source": [
    "# Cross validation score utiliza kfold para Gradient Boosting a en el train\n",
    "cv_scores = cross_val_score(\n",
    "                    estimator = GradientBoostingClassifier(),\n",
    "                    X         = X_train_tra,\n",
    "                    y         = y_train,\n",
    "                    scoring   = 'accuracy',   #metrica para medir la distancia entre modelo y datos. \n",
    "                    cv        = 10)  # numero de veces que hace la cross validatrion"
   ]
  },
  {
   "cell_type": "code",
   "execution_count": 99,
   "id": "85e06aa3",
   "metadata": {},
   "outputs": [
    {
     "data": {
      "text/plain": [
       "0.9185897435897437"
      ]
     },
     "execution_count": 99,
     "metadata": {},
     "output_type": "execute_result"
    }
   ],
   "source": [
    "cv_scores.mean()"
   ]
  },
  {
   "cell_type": "code",
   "execution_count": 100,
   "id": "59519fec",
   "metadata": {},
   "outputs": [],
   "source": [
    "cv_scores = cross_val_score(\n",
    "                    estimator = GradientBoostingClassifier(),\n",
    "                    X         = X_test_tra,\n",
    "                    y         = y_test,\n",
    "                    scoring   = 'accuracy',   #metrica para medir la distancia entre modelo y datos. \n",
    "                    cv        = 10)  # numero de veces que hace la cross validatrion"
   ]
  },
  {
   "cell_type": "code",
   "execution_count": 101,
   "id": "e9e6bf2f",
   "metadata": {},
   "outputs": [
    {
     "data": {
      "text/plain": [
       "0.93"
      ]
     },
     "execution_count": 101,
     "metadata": {},
     "output_type": "execute_result"
    }
   ],
   "source": [
    "cv_scores.mean()"
   ]
  },
  {
   "cell_type": "markdown",
   "id": "f5f7b4b3",
   "metadata": {},
   "source": [
    "El resultat amb el train set del **train/test** és 1.0, amb el mètode **cross-validation** és 0.9185897435897437. El resultat amb el test set del **train/test** és 0.9814814814814815, amb el mètode **cross-validation** 0.93. "
   ]
  },
  {
   "cell_type": "markdown",
   "id": "509f5427",
   "metadata": {},
   "source": [
    "## Exercici 5"
   ]
  },
  {
   "cell_type": "markdown",
   "id": "44f2bae8",
   "metadata": {},
   "source": [
    "Miro de veure quines són les variables més importants per al model, per tal de minimitzar el número de variables amb un funcionament òptim del model. Les gràfiques que he fet al principi, poden donar una idea de les variables que poden tenir més pes al model (les que presenten més diferenciació entre classes): alcohol, total phenols, flavonoids i color intensity."
   ]
  },
  {
   "cell_type": "code",
   "execution_count": 186,
   "id": "b8b0a6fd",
   "metadata": {},
   "outputs": [
    {
     "name": "stdout",
     "output_type": "stream",
     "text": [
      "(124, 6)\n"
     ]
    }
   ],
   "source": [
    "# Mètode K best features\n",
    "# Els scoring mètodes són diferents per problemes de regressió o classificació, sino s'utilitzen malament no funiconen bé.\n",
    "# Per a problemes regresió : f_regression\n",
    "# Per a problemes de clasificació : chi2, f_classif\n",
    "\n",
    "# He intentat utilitzar chi2 però no he pogut perquè hi ha varaibles que tenen negatius. Hi havia la possibilitat d'escollir un\n",
    "# un altre score (el que he fet) o bé normalitzar el dataset en comptes d'escalar-lo (que ja ho tenia fet )\n",
    "\n",
    "from sklearn.feature_selection import SelectKBest\n",
    "from sklearn.feature_selection import f_regression\n",
    "\n",
    "\n",
    "selector = SelectKBest(f_regression, k=6)\n",
    "\n",
    "selector.fit(X_train_tra, y_train)\n",
    "X_train_kbest = selector.transform(X_train_tra)\n",
    "X_test_kbest = selector.transform(X_test_tra)\n",
    "\n",
    "print(X_train_kbest.shape)"
   ]
  },
  {
   "cell_type": "code",
   "execution_count": 189,
   "id": "bc6a520e",
   "metadata": {},
   "outputs": [
    {
     "data": {
      "text/html": [
       "<div>\n",
       "<style scoped>\n",
       "    .dataframe tbody tr th:only-of-type {\n",
       "        vertical-align: middle;\n",
       "    }\n",
       "\n",
       "    .dataframe tbody tr th {\n",
       "        vertical-align: top;\n",
       "    }\n",
       "\n",
       "    .dataframe thead th {\n",
       "        text-align: right;\n",
       "    }\n",
       "</style>\n",
       "<table border=\"1\" class=\"dataframe\">\n",
       "  <thead>\n",
       "    <tr style=\"text-align: right;\">\n",
       "      <th></th>\n",
       "      <th>Malic acid</th>\n",
       "      <th>Total phenols</th>\n",
       "      <th>Flavanoids</th>\n",
       "      <th>Hue</th>\n",
       "      <th>OD280/OD315</th>\n",
       "      <th>Proline</th>\n",
       "    </tr>\n",
       "  </thead>\n",
       "  <tbody>\n",
       "    <tr>\n",
       "      <th>0</th>\n",
       "      <td>-0.763706</td>\n",
       "      <td>-1.371336</td>\n",
       "      <td>-0.814683</td>\n",
       "      <td>0.386845</td>\n",
       "      <td>0.052974</td>\n",
       "      <td>-0.931064</td>\n",
       "    </tr>\n",
       "    <tr>\n",
       "      <th>1</th>\n",
       "      <td>0.292152</td>\n",
       "      <td>-1.320987</td>\n",
       "      <td>-0.698555</td>\n",
       "      <td>-2.172325</td>\n",
       "      <td>-1.688843</td>\n",
       "      <td>-0.835221</td>\n",
       "    </tr>\n",
       "    <tr>\n",
       "      <th>2</th>\n",
       "      <td>0.838286</td>\n",
       "      <td>-1.035675</td>\n",
       "      <td>-1.500893</td>\n",
       "      <td>-0.421314</td>\n",
       "      <td>-0.744129</td>\n",
       "      <td>-0.547694</td>\n",
       "    </tr>\n",
       "    <tr>\n",
       "      <th>3</th>\n",
       "      <td>0.619832</td>\n",
       "      <td>-0.616099</td>\n",
       "      <td>-1.522007</td>\n",
       "      <td>-1.319269</td>\n",
       "      <td>-1.305053</td>\n",
       "      <td>0.442679</td>\n",
       "    </tr>\n",
       "    <tr>\n",
       "      <th>4</th>\n",
       "      <td>-0.263084</td>\n",
       "      <td>-0.532184</td>\n",
       "      <td>-0.350171</td>\n",
       "      <td>0.162356</td>\n",
       "      <td>0.200585</td>\n",
       "      <td>-0.196271</td>\n",
       "    </tr>\n",
       "    <tr>\n",
       "      <th>...</th>\n",
       "      <td>...</td>\n",
       "      <td>...</td>\n",
       "      <td>...</td>\n",
       "      <td>...</td>\n",
       "      <td>...</td>\n",
       "      <td>...</td>\n",
       "    </tr>\n",
       "    <tr>\n",
       "      <th>119</th>\n",
       "      <td>-0.563457</td>\n",
       "      <td>0.760109</td>\n",
       "      <td>1.317847</td>\n",
       "      <td>0.701129</td>\n",
       "      <td>0.436764</td>\n",
       "      <td>1.305262</td>\n",
       "    </tr>\n",
       "    <tr>\n",
       "      <th>120</th>\n",
       "      <td>-0.672684</td>\n",
       "      <td>-0.448269</td>\n",
       "      <td>0.072112</td>\n",
       "      <td>0.431742</td>\n",
       "      <td>0.510569</td>\n",
       "      <td>-1.266513</td>\n",
       "    </tr>\n",
       "    <tr>\n",
       "      <th>121</th>\n",
       "      <td>0.929308</td>\n",
       "      <td>-1.320987</td>\n",
       "      <td>-1.437551</td>\n",
       "      <td>-1.094780</td>\n",
       "      <td>-1.275530</td>\n",
       "      <td>-0.180297</td>\n",
       "    </tr>\n",
       "    <tr>\n",
       "      <th>122</th>\n",
       "      <td>2.585914</td>\n",
       "      <td>-0.884628</td>\n",
       "      <td>-1.469222</td>\n",
       "      <td>-1.633553</td>\n",
       "      <td>-1.674082</td>\n",
       "      <td>-0.052507</td>\n",
       "    </tr>\n",
       "    <tr>\n",
       "      <th>123</th>\n",
       "      <td>-0.426924</td>\n",
       "      <td>-1.102807</td>\n",
       "      <td>-0.476856</td>\n",
       "      <td>1.195003</td>\n",
       "      <td>-0.699845</td>\n",
       "      <td>-1.001348</td>\n",
       "    </tr>\n",
       "  </tbody>\n",
       "</table>\n",
       "<p>124 rows × 6 columns</p>\n",
       "</div>"
      ],
      "text/plain": [
       "     Malic acid  Total phenols  Flavanoids       Hue  OD280/OD315   Proline\n",
       "0     -0.763706      -1.371336   -0.814683  0.386845     0.052974 -0.931064\n",
       "1      0.292152      -1.320987   -0.698555 -2.172325    -1.688843 -0.835221\n",
       "2      0.838286      -1.035675   -1.500893 -0.421314    -0.744129 -0.547694\n",
       "3      0.619832      -0.616099   -1.522007 -1.319269    -1.305053  0.442679\n",
       "4     -0.263084      -0.532184   -0.350171  0.162356     0.200585 -0.196271\n",
       "..          ...            ...         ...       ...          ...       ...\n",
       "119   -0.563457       0.760109    1.317847  0.701129     0.436764  1.305262\n",
       "120   -0.672684      -0.448269    0.072112  0.431742     0.510569 -1.266513\n",
       "121    0.929308      -1.320987   -1.437551 -1.094780    -1.275530 -0.180297\n",
       "122    2.585914      -0.884628   -1.469222 -1.633553    -1.674082 -0.052507\n",
       "123   -0.426924      -1.102807   -0.476856  1.195003    -0.699845 -1.001348\n",
       "\n",
       "[124 rows x 6 columns]"
      ]
     },
     "execution_count": 189,
     "metadata": {},
     "output_type": "execute_result"
    }
   ],
   "source": [
    "new_X_train_tra = X_train_tra.iloc[:,selector.get_support()]\n",
    "new_X_train_tra"
   ]
  },
  {
   "cell_type": "code",
   "execution_count": 218,
   "id": "9cc660b7",
   "metadata": {},
   "outputs": [
    {
     "name": "stdout",
     "output_type": "stream",
     "text": [
      "[0.759, 0.796, 0.815, 0.87, 0.981, 0.944, 0.963, 0.963, 0.963, 0.963, 0.963, 0.944, 0.981]\n"
     ]
    }
   ],
   "source": [
    "# He posat el k = 6 de forma arbitraria, però no tindria que ser així, sino amb una base raonada. Ho he fet amb el score accuracy\n",
    "# per poder comparar amb el model fet previament\n",
    "\n",
    "accuracy_score_list =[]\n",
    "\n",
    "for k in range(1,14):   # Hi ha 3 varaibles possibles\n",
    "    selector = SelectKBest(f_regression, k=k)   # Per avaluar per cada num de variables\n",
    "    selector.fit(X_train_tra, y_train)\n",
    "    \n",
    "    sel_X_train = selector.transform(X_train_tra)  # Per tenir el X_train amb les millor variables segons el num. d'interaccions\n",
    "    sel_X_test  = selector.transform(X_test_tra)\n",
    "    \n",
    "    logreg.fit(sel_X_train, y_train)  # Aplicar el model de regressio logistica per les millor varaibles seleccionades\n",
    "    kbest_predic = logreg.predict(sel_X_test)   # Predicció de la y segons logreg aplicat\n",
    "    \n",
    "    accuracy_score_kbest =round(metrics.accuracy_score(y_test, kbest_predic),3) # score para evaluar\n",
    "    \n",
    "    accuracy_score_list.append(accuracy_score_kbest)\n",
    "    \n",
    "print (accuracy_score_list)\n",
    "\n",
    " \n",
    "    "
   ]
  },
  {
   "cell_type": "code",
   "execution_count": 234,
   "id": "d99bbeb2",
   "metadata": {},
   "outputs": [
    {
     "data": {
      "image/png": "[encoded data removed]",
      "text/plain": [
       "<Figure size 864x432 with 1 Axes>"
      ]
     },
     "metadata": {
      "needs_background": "light"
     },
     "output_type": "display_data"
    }
   ],
   "source": [
    "fig, ax = plt.subplots(figsize=(12, 6))\n",
    "x = ['1','2','3','4','5','6','7','8','9','10','11','12','13']\n",
    "y = accuracy_score_list\n",
    "plt.bar(x, y)\n",
    "ax.set_xlabel('Nombre de varaibles(seleccionades per accuracy)')\n",
    "ax.set_ylabel('Accuracy_score')\n",
    "\n",
    "ax.set_ylim(0, 1.2)  # limit de l'eix y per que encabir els numeros\n",
    "for index, value in enumerate(y):\n",
    "    plt.text(x=index, y=value + 0.02, s=str(value), ha='center') # limit de l'eix y per que encabir els numeros\n",
    "    \n"
   ]
  },
  {
   "cell_type": "code",
   "execution_count": 236,
   "id": "5baaa1e3",
   "metadata": {},
   "outputs": [
    {
     "data": {
      "text/html": [
       "<div>\n",
       "<style scoped>\n",
       "    .dataframe tbody tr th:only-of-type {\n",
       "        vertical-align: middle;\n",
       "    }\n",
       "\n",
       "    .dataframe tbody tr th {\n",
       "        vertical-align: top;\n",
       "    }\n",
       "\n",
       "    .dataframe thead th {\n",
       "        text-align: right;\n",
       "    }\n",
       "</style>\n",
       "<table border=\"1\" class=\"dataframe\">\n",
       "  <thead>\n",
       "    <tr style=\"text-align: right;\">\n",
       "      <th></th>\n",
       "      <th>Total phenols</th>\n",
       "      <th>Flavanoids</th>\n",
       "      <th>Hue</th>\n",
       "      <th>OD280/OD315</th>\n",
       "      <th>Proline</th>\n",
       "    </tr>\n",
       "  </thead>\n",
       "  <tbody>\n",
       "    <tr>\n",
       "      <th>0</th>\n",
       "      <td>-1.371336</td>\n",
       "      <td>-0.814683</td>\n",
       "      <td>0.386845</td>\n",
       "      <td>0.052974</td>\n",
       "      <td>-0.931064</td>\n",
       "    </tr>\n",
       "    <tr>\n",
       "      <th>1</th>\n",
       "      <td>-1.320987</td>\n",
       "      <td>-0.698555</td>\n",
       "      <td>-2.172325</td>\n",
       "      <td>-1.688843</td>\n",
       "      <td>-0.835221</td>\n",
       "    </tr>\n",
       "    <tr>\n",
       "      <th>2</th>\n",
       "      <td>-1.035675</td>\n",
       "      <td>-1.500893</td>\n",
       "      <td>-0.421314</td>\n",
       "      <td>-0.744129</td>\n",
       "      <td>-0.547694</td>\n",
       "    </tr>\n",
       "    <tr>\n",
       "      <th>3</th>\n",
       "      <td>-0.616099</td>\n",
       "      <td>-1.522007</td>\n",
       "      <td>-1.319269</td>\n",
       "      <td>-1.305053</td>\n",
       "      <td>0.442679</td>\n",
       "    </tr>\n",
       "    <tr>\n",
       "      <th>4</th>\n",
       "      <td>-0.532184</td>\n",
       "      <td>-0.350171</td>\n",
       "      <td>0.162356</td>\n",
       "      <td>0.200585</td>\n",
       "      <td>-0.196271</td>\n",
       "    </tr>\n",
       "    <tr>\n",
       "      <th>...</th>\n",
       "      <td>...</td>\n",
       "      <td>...</td>\n",
       "      <td>...</td>\n",
       "      <td>...</td>\n",
       "      <td>...</td>\n",
       "    </tr>\n",
       "    <tr>\n",
       "      <th>119</th>\n",
       "      <td>0.760109</td>\n",
       "      <td>1.317847</td>\n",
       "      <td>0.701129</td>\n",
       "      <td>0.436764</td>\n",
       "      <td>1.305262</td>\n",
       "    </tr>\n",
       "    <tr>\n",
       "      <th>120</th>\n",
       "      <td>-0.448269</td>\n",
       "      <td>0.072112</td>\n",
       "      <td>0.431742</td>\n",
       "      <td>0.510569</td>\n",
       "      <td>-1.266513</td>\n",
       "    </tr>\n",
       "    <tr>\n",
       "      <th>121</th>\n",
       "      <td>-1.320987</td>\n",
       "      <td>-1.437551</td>\n",
       "      <td>-1.094780</td>\n",
       "      <td>-1.275530</td>\n",
       "      <td>-0.180297</td>\n",
       "    </tr>\n",
       "    <tr>\n",
       "      <th>122</th>\n",
       "      <td>-0.884628</td>\n",
       "      <td>-1.469222</td>\n",
       "      <td>-1.633553</td>\n",
       "      <td>-1.674082</td>\n",
       "      <td>-0.052507</td>\n",
       "    </tr>\n",
       "    <tr>\n",
       "      <th>123</th>\n",
       "      <td>-1.102807</td>\n",
       "      <td>-0.476856</td>\n",
       "      <td>1.195003</td>\n",
       "      <td>-0.699845</td>\n",
       "      <td>-1.001348</td>\n",
       "    </tr>\n",
       "  </tbody>\n",
       "</table>\n",
       "<p>124 rows × 5 columns</p>\n",
       "</div>"
      ],
      "text/plain": [
       "     Total phenols  Flavanoids       Hue  OD280/OD315   Proline\n",
       "0        -1.371336   -0.814683  0.386845     0.052974 -0.931064\n",
       "1        -1.320987   -0.698555 -2.172325    -1.688843 -0.835221\n",
       "2        -1.035675   -1.500893 -0.421314    -0.744129 -0.547694\n",
       "3        -0.616099   -1.522007 -1.319269    -1.305053  0.442679\n",
       "4        -0.532184   -0.350171  0.162356     0.200585 -0.196271\n",
       "..             ...         ...       ...          ...       ...\n",
       "119       0.760109    1.317847  0.701129     0.436764  1.305262\n",
       "120      -0.448269    0.072112  0.431742     0.510569 -1.266513\n",
       "121      -1.320987   -1.437551 -1.094780    -1.275530 -0.180297\n",
       "122      -0.884628   -1.469222 -1.633553    -1.674082 -0.052507\n",
       "123      -1.102807   -0.476856  1.195003    -0.699845 -1.001348\n",
       "\n",
       "[124 rows x 5 columns]"
      ]
     },
     "execution_count": 236,
     "metadata": {},
     "output_type": "execute_result"
    }
   ],
   "source": [
    "# Amb 5 varaibles hi ha el mateix accuracy score que amb 13, per tant passariem a buscar les 5 millors variables\n",
    "\n",
    "selector = SelectKBest(f_regression, k=5)\n",
    "\n",
    "selector.fit(X_train_tra, y_train)\n",
    "X_train_kbest = selector.transform(X_train_tra)\n",
    "X_test_kbest = selector.transform(X_test_tra)\n",
    "\n",
    "n5_X_train = X_train_tra.iloc[:,selector.get_support()]\n",
    "n5_X_train"
   ]
  },
  {
   "cell_type": "markdown",
   "id": "20486bb1",
   "metadata": {},
   "source": [
    "Dels que jo havia predit com a variables importants veiens les gràfiqus : alcohol, total phenols, flavonoids i color intensity, només 2 d'elles (total phenols i flavonoids) semblen que són les importants pel model."
   ]
  },
  {
   "cell_type": "code",
   "execution_count": null,
   "id": "2bf8fb69",
   "metadata": {},
   "outputs": [],
   "source": []
  }
 ],
 "metadata": {
  "kernelspec": {
   "display_name": "Python 3 (ipykernel)",
   "language": "python",
   "name": "python3"
  },
  "language_info": {
   "codemirror_mode": {
    "name": "ipython",
    "version": 3
   },
   "file_extension": ".py",
   "mimetype": "text/x-python",
   "name": "python",
   "nbconvert_exporter": "python",
   "pygments_lexer": "ipython3",
   "version": "3.9.12"
  }
 },
 "nbformat": 4,
 "nbformat_minor": 5
}
